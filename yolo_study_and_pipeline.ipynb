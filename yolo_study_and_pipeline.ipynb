{
 "cells": [
  {
   "cell_type": "code",
   "execution_count": 1,
   "id": "c7f8435f-bf2d-4135-b998-ea99c76f3b83",
   "metadata": {},
   "outputs": [],
   "source": [
    "# %%\n",
    "# YOLO Architectures, Training, SOTA Analysis, and Video Classification\n",
    "\n",
    "# %%\n",
    "# Import custom modules\n",
    "%run ../src/augmentations.ipynb\n",
    "%run ../src/data_loader.ipynb\n",
    "%run ../src/train_yolo.ipynb\n",
    "%run ../src/video_baseline.ipynb\n",
    "%run ../src/utils.ipynb\n"
   ]
  },
  {
   "cell_type": "code",
   "execution_count": null,
   "id": "ef5d7258-0855-4a6f-a95b-7ff8918ef9fb",
   "metadata": {},
   "outputs": [],
   "source": [
    "import os\n",
    "from pathlib import Path\n",
    "\n",
    "# %% [markdown]\n",
    "# ## 1. Architecture notes\n",
    "# (Use the README and draw.io for diagrams.)\n",
    "\n",
    "# %%\n",
    "# %% [markdown]\n",
    "# ## 2. Ultralytics quick train example\n",
    "#\n",
    "# Uncomment and run the next cell if you have `ultralytics` installed.\n",
    "\n",
    "# %%\n",
    "# from ultralytics import YOLO\n",
    "# dataset_yaml = str(Path.cwd().parents[0] / 'data' / 'coco_dataset.yaml')\n",
    "# model = YOLO('yolov8n.pt')\n",
    "# model.train(data=dataset_yaml, epochs=5, imgsz=640, batch=8, project='../../experiments/run_001', name='yolov8n_demo')\n",
    "\n",
    "# %%\n",
    "# %% [markdown]\n",
    "# ## 3. Video baseline usage\n",
    "# Use `src/video_baseline.py` functions for training a small baseline.\n",
    "\n",
    "# %%\n",
    "if __name__ == '__main__':\n",
    "    print('This file is a jupytext-style notebook placeholder. Open in Jupyter or run cells interactively.')"
   ]
  }
 ],
 "metadata": {
  "kernelspec": {
   "display_name": "Python 3 (ipykernel)",
   "language": "python",
   "name": "python3"
  },
  "language_info": {
   "codemirror_mode": {
    "name": "ipython",
    "version": 3
   },
   "file_extension": ".py",
   "mimetype": "text/x-python",
   "name": "python",
   "nbconvert_exporter": "python",
   "pygments_lexer": "ipython3",
   "version": "3.13.5"
  }
 },
 "nbformat": 4,
 "nbformat_minor": 5
}
