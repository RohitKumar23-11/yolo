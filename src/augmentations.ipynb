{
 "cells": [
  {
   "cell_type": "code",
   "execution_count": 1,
   "id": "2790d6ca-f75c-46bf-99b4-d3293936df89",
   "metadata": {},
   "outputs": [],
   "source": [
    "from typing import Callable\n",
    "import albumentations as A\n",
    "from albumentations.pytorch import ToTensorV2\n",
    "\n",
    "\n",
    "def get_train_transforms(img_size: int = 640) -> Callable:\n",
    "    \"\"\"Return Albumentations Compose for training.\n",
    "\n",
    "    Parameters\n",
    "    ----------\n",
    "    img_size: int\n",
    "        target square image size.\n",
    "    \"\"\"\n",
    "    return A.Compose(\n",
    "        [\n",
    "            A.RandomResizedCrop(img_size, img_size, scale=(0.5, 1.0), p=0.9),\n",
    "            A.HorizontalFlip(p=0.5),\n",
    "            A.ShiftScaleRotate(shift_limit=0.0625, scale_limit=0.1, rotate_limit=10, p=0.5),\n",
    "            A.ColorJitter(brightness=0.2, contrast=0.2, saturation=0.2, hue=0.1, p=0.5),\n",
    "            A.GaussNoise(p=0.05),\n",
    "            A.Blur(p=0.05),\n",
    "            A.Normalize(),\n",
    "            ToTensorV2(),\n",
    "        ],\n",
    "        bbox_params=A.BboxParams(format=\"pascal_voc\", label_fields=[\"class_labels\"]),\n",
    "    )\n",
    "\n",
    "\n",
    "def get_valid_transforms(img_size: int = 640) -> Callable:\n",
    "    return A.Compose(\n",
    "        [\n",
    "            A.LongestMaxSize(max_size=img_size),\n",
    "            A.PadIfNeeded(min_height=img_size, min_width=img_size, border_mode=0),\n",
    "            A.Normalize(),\n",
    "            ToTensorV2(),\n",
    "        ],\n",
    "        bbox_params=A.BboxParams(format=\"pascal_voc\", label_fields=[\"class_labels\"]),\n",
    "    )"
   ]
  },
  {
   "cell_type": "code",
   "execution_count": null,
   "id": "5d488e65-91b0-4c2d-98c5-184d12fbca19",
   "metadata": {},
   "outputs": [],
   "source": []
  }
 ],
 "metadata": {
  "kernelspec": {
   "display_name": "Python 3 (ipykernel)",
   "language": "python",
   "name": "python3"
  },
  "language_info": {
   "codemirror_mode": {
    "name": "ipython",
    "version": 3
   },
   "file_extension": ".py",
   "mimetype": "text/x-python",
   "name": "python",
   "nbconvert_exporter": "python",
   "pygments_lexer": "ipython3",
   "version": "3.13.5"
  }
 },
 "nbformat": 4,
 "nbformat_minor": 5
}
