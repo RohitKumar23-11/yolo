{
 "cells": [
  {
   "cell_type": "code",
   "execution_count": 1,
   "id": "6f4b0693-89d6-4790-9cec-12a14325f18a",
   "metadata": {},
   "outputs": [],
   "source": [
    "from typing import List, Dict, Any\n",
    "import json\n",
    "\n",
    "\n",
    "def load_records_from_coco_json(coco_json_path: str, image_root: str) -> List[Dict[str, Any]]:\n",
    "    \"\"\"Convert a tiny subset of COCO-format json into our records format.\n",
    "\n",
    "    NOTE: This is a convenience helper and not a full COCO parser.\n",
    "    \"\"\"\n",
    "    with open(coco_json_path, 'r', encoding='utf-8') as f:\n",
    "        coco = json.load(f)\n",
    "\n",
    "    images = {img['id']: img for img in coco.get('images', [])}\n",
    "    ann_by_image = {}\n",
    "    for ann in coco.get('annotations', []):\n",
    "        img_id = ann['image_id']\n",
    "        ann_by_image.setdefault(img_id, []).append(ann)\n",
    "\n",
    "    records = []\n",
    "    for img_id, img in images.items():\n",
    "        anns = ann_by_image.get(img_id, [])\n",
    "        bboxes = []\n",
    "        classes = []\n",
    "        for a in anns:\n",
    "            x, y, w, h = a['bbox']\n",
    "            bboxes.append([x, y, x + w, y + h])\n",
    "            classes.append(a['category_id'])\n",
    "        records.append({'image_path': f\"{image_root}/{img['file_name']}\", 'bboxes': bboxes, 'classes': classes})\n",
    "    return records"
   ]
  },
  {
   "cell_type": "code",
   "execution_count": null,
   "id": "78c207c9-e867-47a1-8334-fbee2648bb22",
   "metadata": {},
   "outputs": [],
   "source": []
  }
 ],
 "metadata": {
  "kernelspec": {
   "display_name": "Python 3 (ipykernel)",
   "language": "python",
   "name": "python3"
  },
  "language_info": {
   "codemirror_mode": {
    "name": "ipython",
    "version": 3
   },
   "file_extension": ".py",
   "mimetype": "text/x-python",
   "name": "python",
   "nbconvert_exporter": "python",
   "pygments_lexer": "ipython3",
   "version": "3.13.5"
  }
 },
 "nbformat": 4,
 "nbformat_minor": 5
}
