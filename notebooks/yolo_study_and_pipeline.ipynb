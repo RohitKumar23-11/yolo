{
 "cells": [
  {
   "cell_type": "code",
   "execution_count": 9,
   "id": "c7f8435f-bf2d-4135-b998-ea99c76f3b83",
   "metadata": {},
   "outputs": [
    {
     "name": "stdout",
     "output_type": "stream",
     "text": [
      "INFO: Determined project root as: C:\\Users\\Acer\\Internship\\yolo\n",
      "\n",
      "✅ Dataset initialized successfully.\n",
      "len 2\n",
      "\n",
      "--- Sample 0 Output ---\n",
      "Image shape: (3, 6306, 4204)\n",
      "BBoxes: [[ 10.  10. 100. 120.]]\n",
      "Classes: [0]\n",
      "This module is a training skeleton. We need to integrate our own models.\n",
      "Run train_video_baseline with prepared train/val records.\n"
     ]
    }
   ],
   "source": [
    "# Import custom modules\n",
    "%run ../src/augmentations.ipynb\n",
    "%run ../src/data_loader.ipynb\n",
    "%run ../src/train_yolo.ipynb\n",
    "%run ../src/video_baseline.ipynb\n",
    "%run ../src/utils.ipynb"
   ]
  },
  {
   "cell_type": "code",
   "execution_count": null,
   "id": "618b2c4f-1eb8-49b9-a527-37ce949d05c6",
   "metadata": {},
   "outputs": [],
   "source": []
  }
 ],
 "metadata": {
  "kernelspec": {
   "display_name": "Python 3 (ipykernel)",
   "language": "python",
   "name": "python3"
  },
  "language_info": {
   "codemirror_mode": {
    "name": "ipython",
    "version": 3
   },
   "file_extension": ".py",
   "mimetype": "text/x-python",
   "name": "python",
   "nbconvert_exporter": "python",
   "pygments_lexer": "ipython3",
   "version": "3.13.5"
  }
 },
 "nbformat": 4,
 "nbformat_minor": 5
}
